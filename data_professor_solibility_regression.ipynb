{
 "cells": [
  {
   "cell_type": "markdown",
   "metadata": {
    "id": "Cyw2WLsjUuVY"
   },
   "source": [
    "youtube video link :  https://www.youtube.com/watch?v=29ZQ3TDGgRQ&ab_channel=DataProfessor"
   ]
  },
  {
   "cell_type": "markdown",
   "metadata": {
    "id": "5i9caA598ucm"
   },
   "source": [
    "## Loading the dataset"
   ]
  },
  {
   "cell_type": "code",
   "execution_count": 1,
   "metadata": {
    "colab": {
     "base_uri": "https://localhost:8080/",
     "height": 424
    },
    "executionInfo": {
     "elapsed": 588,
     "status": "ok",
     "timestamp": 1726060142728,
     "user": {
      "displayName": "A",
      "userId": "16866082242235135840"
     },
     "user_tz": -360
    },
    "id": "hruAT7vU9bdN",
    "outputId": "af47e067-2b26-4474-e432-504d9ce222a4"
   },
   "outputs": [
    {
     "data": {
      "text/html": [
       "<div>\n",
       "<style scoped>\n",
       "    .dataframe tbody tr th:only-of-type {\n",
       "        vertical-align: middle;\n",
       "    }\n",
       "\n",
       "    .dataframe tbody tr th {\n",
       "        vertical-align: top;\n",
       "    }\n",
       "\n",
       "    .dataframe thead th {\n",
       "        text-align: right;\n",
       "    }\n",
       "</style>\n",
       "<table border=\"1\" class=\"dataframe\">\n",
       "  <thead>\n",
       "    <tr style=\"text-align: right;\">\n",
       "      <th></th>\n",
       "      <th>MolLogP</th>\n",
       "      <th>MolWt</th>\n",
       "      <th>NumRotatableBonds</th>\n",
       "      <th>AromaticProportion</th>\n",
       "      <th>logS</th>\n",
       "    </tr>\n",
       "  </thead>\n",
       "  <tbody>\n",
       "    <tr>\n",
       "      <th>0</th>\n",
       "      <td>2.59540</td>\n",
       "      <td>167.850</td>\n",
       "      <td>0.0</td>\n",
       "      <td>0.000000</td>\n",
       "      <td>-2.180</td>\n",
       "    </tr>\n",
       "    <tr>\n",
       "      <th>1</th>\n",
       "      <td>2.37650</td>\n",
       "      <td>133.405</td>\n",
       "      <td>0.0</td>\n",
       "      <td>0.000000</td>\n",
       "      <td>-2.000</td>\n",
       "    </tr>\n",
       "    <tr>\n",
       "      <th>2</th>\n",
       "      <td>2.59380</td>\n",
       "      <td>167.850</td>\n",
       "      <td>1.0</td>\n",
       "      <td>0.000000</td>\n",
       "      <td>-1.740</td>\n",
       "    </tr>\n",
       "    <tr>\n",
       "      <th>3</th>\n",
       "      <td>2.02890</td>\n",
       "      <td>133.405</td>\n",
       "      <td>1.0</td>\n",
       "      <td>0.000000</td>\n",
       "      <td>-1.480</td>\n",
       "    </tr>\n",
       "    <tr>\n",
       "      <th>4</th>\n",
       "      <td>2.91890</td>\n",
       "      <td>187.375</td>\n",
       "      <td>1.0</td>\n",
       "      <td>0.000000</td>\n",
       "      <td>-3.040</td>\n",
       "    </tr>\n",
       "    <tr>\n",
       "      <th>...</th>\n",
       "      <td>...</td>\n",
       "      <td>...</td>\n",
       "      <td>...</td>\n",
       "      <td>...</td>\n",
       "      <td>...</td>\n",
       "    </tr>\n",
       "    <tr>\n",
       "      <th>1139</th>\n",
       "      <td>1.98820</td>\n",
       "      <td>287.343</td>\n",
       "      <td>8.0</td>\n",
       "      <td>0.000000</td>\n",
       "      <td>1.144</td>\n",
       "    </tr>\n",
       "    <tr>\n",
       "      <th>1140</th>\n",
       "      <td>3.42130</td>\n",
       "      <td>286.114</td>\n",
       "      <td>2.0</td>\n",
       "      <td>0.333333</td>\n",
       "      <td>-4.925</td>\n",
       "    </tr>\n",
       "    <tr>\n",
       "      <th>1141</th>\n",
       "      <td>3.60960</td>\n",
       "      <td>308.333</td>\n",
       "      <td>4.0</td>\n",
       "      <td>0.695652</td>\n",
       "      <td>-3.893</td>\n",
       "    </tr>\n",
       "    <tr>\n",
       "      <th>1142</th>\n",
       "      <td>2.56214</td>\n",
       "      <td>354.815</td>\n",
       "      <td>3.0</td>\n",
       "      <td>0.521739</td>\n",
       "      <td>-3.790</td>\n",
       "    </tr>\n",
       "    <tr>\n",
       "      <th>1143</th>\n",
       "      <td>2.02164</td>\n",
       "      <td>179.219</td>\n",
       "      <td>1.0</td>\n",
       "      <td>0.461538</td>\n",
       "      <td>-2.581</td>\n",
       "    </tr>\n",
       "  </tbody>\n",
       "</table>\n",
       "<p>1144 rows × 5 columns</p>\n",
       "</div>"
      ],
      "text/plain": [
       "      MolLogP    MolWt  NumRotatableBonds  AromaticProportion   logS\n",
       "0     2.59540  167.850                0.0            0.000000 -2.180\n",
       "1     2.37650  133.405                0.0            0.000000 -2.000\n",
       "2     2.59380  167.850                1.0            0.000000 -1.740\n",
       "3     2.02890  133.405                1.0            0.000000 -1.480\n",
       "4     2.91890  187.375                1.0            0.000000 -3.040\n",
       "...       ...      ...                ...                 ...    ...\n",
       "1139  1.98820  287.343                8.0            0.000000  1.144\n",
       "1140  3.42130  286.114                2.0            0.333333 -4.925\n",
       "1141  3.60960  308.333                4.0            0.695652 -3.893\n",
       "1142  2.56214  354.815                3.0            0.521739 -3.790\n",
       "1143  2.02164  179.219                1.0            0.461538 -2.581\n",
       "\n",
       "[1144 rows x 5 columns]"
      ]
     },
     "execution_count": 1,
     "metadata": {},
     "output_type": "execute_result"
    }
   ],
   "source": [
    "import pandas as pd\n",
    "df = pd.read_csv('https://raw.githubusercontent.com/dataprofessor/data/master/delaney_solubility_with_descriptors.csv')\n",
    "df"
   ]
  },
  {
   "cell_type": "markdown",
   "metadata": {
    "id": "EIiptMob-kWc"
   },
   "source": [
    "## Data seperation"
   ]
  },
  {
   "cell_type": "markdown",
   "metadata": {
    "id": "L2Nutism-m80"
   },
   "source": [
    "### data seperation as x and y"
   ]
  },
  {
   "cell_type": "code",
   "execution_count": 2,
   "metadata": {
    "colab": {
     "base_uri": "https://localhost:8080/",
     "height": 458
    },
    "executionInfo": {
     "elapsed": 3,
     "status": "ok",
     "timestamp": 1726060146528,
     "user": {
      "displayName": "A",
      "userId": "16866082242235135840"
     },
     "user_tz": -360
    },
    "id": "sjYSSf1e-pq2",
    "outputId": "ae6ef4bf-9697-4f9e-f7d0-903133ef51bd"
   },
   "outputs": [
    {
     "data": {
      "text/plain": [
       "0      -2.180\n",
       "1      -2.000\n",
       "2      -1.740\n",
       "3      -1.480\n",
       "4      -3.040\n",
       "        ...  \n",
       "1139    1.144\n",
       "1140   -4.925\n",
       "1141   -3.893\n",
       "1142   -3.790\n",
       "1143   -2.581\n",
       "Name: logS, Length: 1144, dtype: float64"
      ]
     },
     "execution_count": 2,
     "metadata": {},
     "output_type": "execute_result"
    }
   ],
   "source": [
    "y = df['logS']\n",
    "y"
   ]
  },
  {
   "cell_type": "code",
   "execution_count": 3,
   "metadata": {
    "colab": {
     "base_uri": "https://localhost:8080/",
     "height": 424
    },
    "executionInfo": {
     "elapsed": 5,
     "status": "ok",
     "timestamp": 1726060150012,
     "user": {
      "displayName": "A",
      "userId": "16866082242235135840"
     },
     "user_tz": -360
    },
    "id": "v0I3EtDo-3Rs",
    "outputId": "e4d44ae3-a04a-472a-c820-17fc8634b8b6"
   },
   "outputs": [
    {
     "data": {
      "text/html": [
       "<div>\n",
       "<style scoped>\n",
       "    .dataframe tbody tr th:only-of-type {\n",
       "        vertical-align: middle;\n",
       "    }\n",
       "\n",
       "    .dataframe tbody tr th {\n",
       "        vertical-align: top;\n",
       "    }\n",
       "\n",
       "    .dataframe thead th {\n",
       "        text-align: right;\n",
       "    }\n",
       "</style>\n",
       "<table border=\"1\" class=\"dataframe\">\n",
       "  <thead>\n",
       "    <tr style=\"text-align: right;\">\n",
       "      <th></th>\n",
       "      <th>MolLogP</th>\n",
       "      <th>MolWt</th>\n",
       "      <th>NumRotatableBonds</th>\n",
       "      <th>AromaticProportion</th>\n",
       "    </tr>\n",
       "  </thead>\n",
       "  <tbody>\n",
       "    <tr>\n",
       "      <th>0</th>\n",
       "      <td>2.59540</td>\n",
       "      <td>167.850</td>\n",
       "      <td>0.0</td>\n",
       "      <td>0.000000</td>\n",
       "    </tr>\n",
       "    <tr>\n",
       "      <th>1</th>\n",
       "      <td>2.37650</td>\n",
       "      <td>133.405</td>\n",
       "      <td>0.0</td>\n",
       "      <td>0.000000</td>\n",
       "    </tr>\n",
       "    <tr>\n",
       "      <th>2</th>\n",
       "      <td>2.59380</td>\n",
       "      <td>167.850</td>\n",
       "      <td>1.0</td>\n",
       "      <td>0.000000</td>\n",
       "    </tr>\n",
       "    <tr>\n",
       "      <th>3</th>\n",
       "      <td>2.02890</td>\n",
       "      <td>133.405</td>\n",
       "      <td>1.0</td>\n",
       "      <td>0.000000</td>\n",
       "    </tr>\n",
       "    <tr>\n",
       "      <th>4</th>\n",
       "      <td>2.91890</td>\n",
       "      <td>187.375</td>\n",
       "      <td>1.0</td>\n",
       "      <td>0.000000</td>\n",
       "    </tr>\n",
       "    <tr>\n",
       "      <th>...</th>\n",
       "      <td>...</td>\n",
       "      <td>...</td>\n",
       "      <td>...</td>\n",
       "      <td>...</td>\n",
       "    </tr>\n",
       "    <tr>\n",
       "      <th>1139</th>\n",
       "      <td>1.98820</td>\n",
       "      <td>287.343</td>\n",
       "      <td>8.0</td>\n",
       "      <td>0.000000</td>\n",
       "    </tr>\n",
       "    <tr>\n",
       "      <th>1140</th>\n",
       "      <td>3.42130</td>\n",
       "      <td>286.114</td>\n",
       "      <td>2.0</td>\n",
       "      <td>0.333333</td>\n",
       "    </tr>\n",
       "    <tr>\n",
       "      <th>1141</th>\n",
       "      <td>3.60960</td>\n",
       "      <td>308.333</td>\n",
       "      <td>4.0</td>\n",
       "      <td>0.695652</td>\n",
       "    </tr>\n",
       "    <tr>\n",
       "      <th>1142</th>\n",
       "      <td>2.56214</td>\n",
       "      <td>354.815</td>\n",
       "      <td>3.0</td>\n",
       "      <td>0.521739</td>\n",
       "    </tr>\n",
       "    <tr>\n",
       "      <th>1143</th>\n",
       "      <td>2.02164</td>\n",
       "      <td>179.219</td>\n",
       "      <td>1.0</td>\n",
       "      <td>0.461538</td>\n",
       "    </tr>\n",
       "  </tbody>\n",
       "</table>\n",
       "<p>1144 rows × 4 columns</p>\n",
       "</div>"
      ],
      "text/plain": [
       "      MolLogP    MolWt  NumRotatableBonds  AromaticProportion\n",
       "0     2.59540  167.850                0.0            0.000000\n",
       "1     2.37650  133.405                0.0            0.000000\n",
       "2     2.59380  167.850                1.0            0.000000\n",
       "3     2.02890  133.405                1.0            0.000000\n",
       "4     2.91890  187.375                1.0            0.000000\n",
       "...       ...      ...                ...                 ...\n",
       "1139  1.98820  287.343                8.0            0.000000\n",
       "1140  3.42130  286.114                2.0            0.333333\n",
       "1141  3.60960  308.333                4.0            0.695652\n",
       "1142  2.56214  354.815                3.0            0.521739\n",
       "1143  2.02164  179.219                1.0            0.461538\n",
       "\n",
       "[1144 rows x 4 columns]"
      ]
     },
     "execution_count": 3,
     "metadata": {},
     "output_type": "execute_result"
    }
   ],
   "source": [
    "x = df.drop('logS', axis= 1)\n",
    "x"
   ]
  },
  {
   "cell_type": "markdown",
   "metadata": {
    "id": "r7-VbJdwAQjr"
   },
   "source": [
    "### data spliting into test and train set"
   ]
  },
  {
   "cell_type": "code",
   "execution_count": 4,
   "metadata": {
    "colab": {
     "base_uri": "https://localhost:8080/",
     "height": 424
    },
    "executionInfo": {
     "elapsed": 1206,
     "status": "ok",
     "timestamp": 1726060154853,
     "user": {
      "displayName": "A",
      "userId": "16866082242235135840"
     },
     "user_tz": -360
    },
    "id": "oeaHZXVlAaRD",
    "outputId": "3b222c4b-8a03-4d69-fbfd-ed98c867b64e"
   },
   "outputs": [
    {
     "data": {
      "text/html": [
       "<div>\n",
       "<style scoped>\n",
       "    .dataframe tbody tr th:only-of-type {\n",
       "        vertical-align: middle;\n",
       "    }\n",
       "\n",
       "    .dataframe tbody tr th {\n",
       "        vertical-align: top;\n",
       "    }\n",
       "\n",
       "    .dataframe thead th {\n",
       "        text-align: right;\n",
       "    }\n",
       "</style>\n",
       "<table border=\"1\" class=\"dataframe\">\n",
       "  <thead>\n",
       "    <tr style=\"text-align: right;\">\n",
       "      <th></th>\n",
       "      <th>MolLogP</th>\n",
       "      <th>MolWt</th>\n",
       "      <th>NumRotatableBonds</th>\n",
       "      <th>AromaticProportion</th>\n",
       "    </tr>\n",
       "  </thead>\n",
       "  <tbody>\n",
       "    <tr>\n",
       "      <th>796</th>\n",
       "      <td>2.6477</td>\n",
       "      <td>154.253</td>\n",
       "      <td>1.0</td>\n",
       "      <td>0.000000</td>\n",
       "    </tr>\n",
       "    <tr>\n",
       "      <th>207</th>\n",
       "      <td>3.3260</td>\n",
       "      <td>156.269</td>\n",
       "      <td>7.0</td>\n",
       "      <td>0.000000</td>\n",
       "    </tr>\n",
       "    <tr>\n",
       "      <th>1092</th>\n",
       "      <td>0.4043</td>\n",
       "      <td>356.227</td>\n",
       "      <td>6.0</td>\n",
       "      <td>0.285714</td>\n",
       "    </tr>\n",
       "    <tr>\n",
       "      <th>533</th>\n",
       "      <td>0.6930</td>\n",
       "      <td>210.233</td>\n",
       "      <td>0.0</td>\n",
       "      <td>0.000000</td>\n",
       "    </tr>\n",
       "    <tr>\n",
       "      <th>209</th>\n",
       "      <td>1.4149</td>\n",
       "      <td>102.177</td>\n",
       "      <td>3.0</td>\n",
       "      <td>0.000000</td>\n",
       "    </tr>\n",
       "    <tr>\n",
       "      <th>...</th>\n",
       "      <td>...</td>\n",
       "      <td>...</td>\n",
       "      <td>...</td>\n",
       "      <td>...</td>\n",
       "    </tr>\n",
       "    <tr>\n",
       "      <th>278</th>\n",
       "      <td>1.9475</td>\n",
       "      <td>116.204</td>\n",
       "      <td>3.0</td>\n",
       "      <td>0.000000</td>\n",
       "    </tr>\n",
       "    <tr>\n",
       "      <th>404</th>\n",
       "      <td>2.0905</td>\n",
       "      <td>259.762</td>\n",
       "      <td>5.0</td>\n",
       "      <td>0.375000</td>\n",
       "    </tr>\n",
       "    <tr>\n",
       "      <th>439</th>\n",
       "      <td>3.4718</td>\n",
       "      <td>182.266</td>\n",
       "      <td>3.0</td>\n",
       "      <td>0.857143</td>\n",
       "    </tr>\n",
       "    <tr>\n",
       "      <th>619</th>\n",
       "      <td>3.6212</td>\n",
       "      <td>296.552</td>\n",
       "      <td>4.0</td>\n",
       "      <td>0.000000</td>\n",
       "    </tr>\n",
       "    <tr>\n",
       "      <th>1078</th>\n",
       "      <td>4.4500</td>\n",
       "      <td>330.468</td>\n",
       "      <td>1.0</td>\n",
       "      <td>0.000000</td>\n",
       "    </tr>\n",
       "  </tbody>\n",
       "</table>\n",
       "<p>915 rows × 4 columns</p>\n",
       "</div>"
      ],
      "text/plain": [
       "      MolLogP    MolWt  NumRotatableBonds  AromaticProportion\n",
       "796    2.6477  154.253                1.0            0.000000\n",
       "207    3.3260  156.269                7.0            0.000000\n",
       "1092   0.4043  356.227                6.0            0.285714\n",
       "533    0.6930  210.233                0.0            0.000000\n",
       "209    1.4149  102.177                3.0            0.000000\n",
       "...       ...      ...                ...                 ...\n",
       "278    1.9475  116.204                3.0            0.000000\n",
       "404    2.0905  259.762                5.0            0.375000\n",
       "439    3.4718  182.266                3.0            0.857143\n",
       "619    3.6212  296.552                4.0            0.000000\n",
       "1078   4.4500  330.468                1.0            0.000000\n",
       "\n",
       "[915 rows x 4 columns]"
      ]
     },
     "execution_count": 4,
     "metadata": {},
     "output_type": "execute_result"
    }
   ],
   "source": [
    "from sklearn.model_selection import train_test_split\n",
    "x_train, x_test, y_train,y_test = train_test_split(x,y,test_size = 0.2, random_state = 69)\n",
    "x_train"
   ]
  },
  {
   "cell_type": "markdown",
   "metadata": {
    "id": "ZOESwkxvBEfx"
   },
   "source": [
    "## Model training\n"
   ]
  },
  {
   "cell_type": "markdown",
   "metadata": {
    "id": "zH59JQL4BQAR"
   },
   "source": [
    "### linear regression"
   ]
  },
  {
   "cell_type": "markdown",
   "metadata": {
    "id": "ths8_xfUC51A"
   },
   "source": [
    "#### training the model"
   ]
  },
  {
   "cell_type": "code",
   "execution_count": 5,
   "metadata": {
    "colab": {
     "base_uri": "https://localhost:8080/",
     "height": 75
    },
    "executionInfo": {
     "elapsed": 4,
     "status": "ok",
     "timestamp": 1726060158495,
     "user": {
      "displayName": "A",
      "userId": "16866082242235135840"
     },
     "user_tz": -360
    },
    "id": "vpt_jqGYBRzb",
    "outputId": "c484cb2d-5271-4da1-bbfb-77bd48efdb26"
   },
   "outputs": [
    {
     "data": {
      "text/html": [
       "<style>#sk-container-id-1 {color: black;background-color: white;}#sk-container-id-1 pre{padding: 0;}#sk-container-id-1 div.sk-toggleable {background-color: white;}#sk-container-id-1 label.sk-toggleable__label {cursor: pointer;display: block;width: 100%;margin-bottom: 0;padding: 0.3em;box-sizing: border-box;text-align: center;}#sk-container-id-1 label.sk-toggleable__label-arrow:before {content: \"▸\";float: left;margin-right: 0.25em;color: #696969;}#sk-container-id-1 label.sk-toggleable__label-arrow:hover:before {color: black;}#sk-container-id-1 div.sk-estimator:hover label.sk-toggleable__label-arrow:before {color: black;}#sk-container-id-1 div.sk-toggleable__content {max-height: 0;max-width: 0;overflow: hidden;text-align: left;background-color: #f0f8ff;}#sk-container-id-1 div.sk-toggleable__content pre {margin: 0.2em;color: black;border-radius: 0.25em;background-color: #f0f8ff;}#sk-container-id-1 input.sk-toggleable__control:checked~div.sk-toggleable__content {max-height: 200px;max-width: 100%;overflow: auto;}#sk-container-id-1 input.sk-toggleable__control:checked~label.sk-toggleable__label-arrow:before {content: \"▾\";}#sk-container-id-1 div.sk-estimator input.sk-toggleable__control:checked~label.sk-toggleable__label {background-color: #d4ebff;}#sk-container-id-1 div.sk-label input.sk-toggleable__control:checked~label.sk-toggleable__label {background-color: #d4ebff;}#sk-container-id-1 input.sk-hidden--visually {border: 0;clip: rect(1px 1px 1px 1px);clip: rect(1px, 1px, 1px, 1px);height: 1px;margin: -1px;overflow: hidden;padding: 0;position: absolute;width: 1px;}#sk-container-id-1 div.sk-estimator {font-family: monospace;background-color: #f0f8ff;border: 1px dotted black;border-radius: 0.25em;box-sizing: border-box;margin-bottom: 0.5em;}#sk-container-id-1 div.sk-estimator:hover {background-color: #d4ebff;}#sk-container-id-1 div.sk-parallel-item::after {content: \"\";width: 100%;border-bottom: 1px solid gray;flex-grow: 1;}#sk-container-id-1 div.sk-label:hover label.sk-toggleable__label {background-color: #d4ebff;}#sk-container-id-1 div.sk-serial::before {content: \"\";position: absolute;border-left: 1px solid gray;box-sizing: border-box;top: 0;bottom: 0;left: 50%;z-index: 0;}#sk-container-id-1 div.sk-serial {display: flex;flex-direction: column;align-items: center;background-color: white;padding-right: 0.2em;padding-left: 0.2em;position: relative;}#sk-container-id-1 div.sk-item {position: relative;z-index: 1;}#sk-container-id-1 div.sk-parallel {display: flex;align-items: stretch;justify-content: center;background-color: white;position: relative;}#sk-container-id-1 div.sk-item::before, #sk-container-id-1 div.sk-parallel-item::before {content: \"\";position: absolute;border-left: 1px solid gray;box-sizing: border-box;top: 0;bottom: 0;left: 50%;z-index: -1;}#sk-container-id-1 div.sk-parallel-item {display: flex;flex-direction: column;z-index: 1;position: relative;background-color: white;}#sk-container-id-1 div.sk-parallel-item:first-child::after {align-self: flex-end;width: 50%;}#sk-container-id-1 div.sk-parallel-item:last-child::after {align-self: flex-start;width: 50%;}#sk-container-id-1 div.sk-parallel-item:only-child::after {width: 0;}#sk-container-id-1 div.sk-dashed-wrapped {border: 1px dashed gray;margin: 0 0.4em 0.5em 0.4em;box-sizing: border-box;padding-bottom: 0.4em;background-color: white;}#sk-container-id-1 div.sk-label label {font-family: monospace;font-weight: bold;display: inline-block;line-height: 1.2em;}#sk-container-id-1 div.sk-label-container {text-align: center;}#sk-container-id-1 div.sk-container {/* jupyter's `normalize.less` sets `[hidden] { display: none; }` but bootstrap.min.css set `[hidden] { display: none !important; }` so we also need the `!important` here to be able to override the default hidden behavior on the sphinx rendered scikit-learn.org. See: https://github.com/scikit-learn/scikit-learn/issues/21755 */display: inline-block !important;position: relative;}#sk-container-id-1 div.sk-text-repr-fallback {display: none;}</style><div id=\"sk-container-id-1\" class=\"sk-top-container\"><div class=\"sk-text-repr-fallback\"><pre>LinearRegression()</pre><b>In a Jupyter environment, please rerun this cell to show the HTML representation or trust the notebook. <br />On GitHub, the HTML representation is unable to render, please try loading this page with nbviewer.org.</b></div><div class=\"sk-container\" hidden><div class=\"sk-item\"><div class=\"sk-estimator sk-toggleable\"><input class=\"sk-toggleable__control sk-hidden--visually\" id=\"sk-estimator-id-1\" type=\"checkbox\" checked><label for=\"sk-estimator-id-1\" class=\"sk-toggleable__label sk-toggleable__label-arrow\">LinearRegression</label><div class=\"sk-toggleable__content\"><pre>LinearRegression()</pre></div></div></div></div></div>"
      ],
      "text/plain": [
       "LinearRegression()"
      ]
     },
     "execution_count": 5,
     "metadata": {},
     "output_type": "execute_result"
    }
   ],
   "source": [
    "from sklearn.linear_model import LinearRegression\n",
    "lr = LinearRegression()\n",
    "lr.fit(x_train,y_train)"
   ]
  },
  {
   "cell_type": "markdown",
   "metadata": {
    "id": "2uPYOV6pC_NQ"
   },
   "source": [
    "#### applying the model to make prediction"
   ]
  },
  {
   "cell_type": "code",
   "execution_count": 6,
   "metadata": {
    "colab": {
     "base_uri": "https://localhost:8080/"
    },
    "executionInfo": {
     "elapsed": 1534,
     "status": "ok",
     "timestamp": 1726060163652,
     "user": {
      "displayName": "A",
      "userId": "16866082242235135840"
     },
     "user_tz": -360
    },
    "id": "ySSwY5ZaDE1_",
    "outputId": "1a8af12f-ed7b-43f8-d549-f9c92e046dc9"
   },
   "outputs": [
    {
     "data": {
      "text/plain": [
       "array([-6.43388046, -1.99975664,  0.62250324, -4.15334005, -3.45091778,\n",
       "       -1.41374074, -2.4855601 , -3.66488197, -4.29846871, -2.3656468 ,\n",
       "       -1.86679825, -4.58632851, -2.8162141 , -0.41699836, -2.52170064,\n",
       "       -1.56593445, -7.08937341, -2.9561131 , -3.95112132, -4.30406435,\n",
       "       -2.49935469, -9.19039835, -1.29179243, -2.36812098, -3.09760402,\n",
       "       -2.44999973, -3.34962531, -1.56933724, -3.3477083 , -1.24906373,\n",
       "       -3.08234234, -4.72497904, -5.40825349, -2.98007675, -1.5206233 ,\n",
       "       -5.16340499, -2.69479363, -2.77437792, -1.27736327, -1.90568801,\n",
       "       -3.37720476, -4.49045537, -2.83802432, -1.73380803,  0.33572748,\n",
       "       -3.10017419, -2.5556591 , -3.44058028, -5.00325119, -2.0483514 ,\n",
       "       -3.50982602, -3.77355744, -3.25853564, -2.85616359, -5.67310272,\n",
       "       -5.77804826,  0.72422964, -2.74753658,  0.60953275, -5.69641746,\n",
       "       -3.12150265, -7.15863489, -1.75104244,  2.10678718, -1.50682773,\n",
       "       -2.40358109, -2.30212845, -2.10757438, -1.68564699, -3.05124018,\n",
       "       -3.25942097, -0.70389249, -1.8707157 , -4.35935791, -5.37529952,\n",
       "       -2.15317133, -3.08234234, -4.27684009, -7.78842717, -2.84162794,\n",
       "       -2.82693127, -1.11902369, -4.2491383 , -5.45218187, -4.28926849,\n",
       "       -2.16695805, -5.97920394, -1.41764883, -3.08234234,  2.72329274,\n",
       "       -2.29307853, -7.78842717,  0.87046668, -2.26252364, -1.80433451,\n",
       "       -3.36477451, -1.75207386, -7.12410317, -2.74386438, -0.14445972,\n",
       "       -2.85018895, -1.60979811, -3.71471009, -5.47461692, -2.29096608,\n",
       "       -1.80755056, -3.96061656, -2.42359675, -2.28747224, -2.25561236,\n",
       "       -0.850585  , -2.44940632, -2.59747642, -5.45218187, -2.60938468,\n",
       "       -5.20751461, -3.24070608, -0.74197014, -1.5052197 , -2.39777733,\n",
       "       -3.2261721 , -1.12349889, -4.80225129, -1.96632907, -3.89337005,\n",
       "       -2.4266794 , -3.83620907, -4.14554198, -3.29225591, -2.25671309,\n",
       "       -8.4888366 , -7.78842717, -2.83951326, -4.99011426, -3.77238087,\n",
       "       -3.90837136, -2.68533689, -5.12312768, -6.47142089, -5.69641746,\n",
       "       -2.70002294, -3.15968269, -5.69641746, -1.92296807, -7.24762936,\n",
       "       -3.46145052, -0.04519201, -3.21493821, -4.16660107, -3.83867521,\n",
       "       -3.74190558, -1.15444922, -5.00325119, -2.29258423, -2.64043093,\n",
       "       -7.177828  , -3.46963919, -2.7470813 , -5.00325119, -1.32800737,\n",
       "       -1.75104244, -6.39192952, -1.24962501, -1.36766026, -1.70510655,\n",
       "       -0.09885133, -3.35026243, -3.17515746, -2.05292913, -1.98755263,\n",
       "       -1.0475106 , -4.789605  , -5.00325119, -3.35270624, -1.74239039,\n",
       "       -3.44233257, -5.39543339, -1.90389801, -2.06041839, -1.60698428,\n",
       "       -7.08937341, -1.81427496, -3.92286512, -3.37720476, -6.05066437,\n",
       "       -1.70437479, -5.97771301, -0.11505333, -1.90870606, -3.96061656,\n",
       "       -1.72103165, -1.62176291, -2.33996206, -4.69301993, -1.43820816,\n",
       "       -2.31891176, -4.65062059, -2.10117434, -4.46640015, -0.25068514,\n",
       "       -3.04379597, -0.75160523, -1.92005918, -3.18162834, -3.54835937,\n",
       "       -2.34104801, -0.39215812, -2.0194462 , -6.09307537, -3.82714662,\n",
       "       -2.68318548, -1.22886289, -1.85349401, -5.22458697, -2.75945882,\n",
       "       -3.40009449, -1.98226462, -2.45996855, -4.69622028, -1.51952496,\n",
       "       -0.77835413, -2.36003246, -1.37066723, -2.28175999, -3.6546062 ,\n",
       "       -5.10321852, -1.1276013 , -2.44966157, -5.01067973])"
      ]
     },
     "execution_count": 6,
     "metadata": {},
     "output_type": "execute_result"
    }
   ],
   "source": [
    "y_lr_train_pred = lr.predict(x_train)\n",
    "y_lr_test_pred = lr.predict(x_test)\n",
    "y_lr_test_pred"
   ]
  },
  {
   "cell_type": "markdown",
   "metadata": {
    "id": "EuiTPL7ADofm"
   },
   "source": [
    "#### evaluate model performance"
   ]
  },
  {
   "cell_type": "code",
   "execution_count": 7,
   "metadata": {
    "colab": {
     "base_uri": "https://localhost:8080/",
     "height": 89
    },
    "executionInfo": {
     "elapsed": 6,
     "status": "ok",
     "timestamp": 1726060166835,
     "user": {
      "displayName": "A",
      "userId": "16866082242235135840"
     },
     "user_tz": -360
    },
    "id": "_vMY5dwFDrlf",
    "outputId": "c654dd64-5116-40ad-9508-5413e5cfb246"
   },
   "outputs": [
    {
     "data": {
      "text/html": [
       "<div>\n",
       "<style scoped>\n",
       "    .dataframe tbody tr th:only-of-type {\n",
       "        vertical-align: middle;\n",
       "    }\n",
       "\n",
       "    .dataframe tbody tr th {\n",
       "        vertical-align: top;\n",
       "    }\n",
       "\n",
       "    .dataframe thead th {\n",
       "        text-align: right;\n",
       "    }\n",
       "</style>\n",
       "<table border=\"1\" class=\"dataframe\">\n",
       "  <thead>\n",
       "    <tr style=\"text-align: right;\">\n",
       "      <th></th>\n",
       "      <th>Model</th>\n",
       "      <th>Train_MSE</th>\n",
       "      <th>Train R2</th>\n",
       "      <th>Test MSE</th>\n",
       "      <th>Test R2</th>\n",
       "    </tr>\n",
       "  </thead>\n",
       "  <tbody>\n",
       "    <tr>\n",
       "      <th>0</th>\n",
       "      <td>Linear Regression</td>\n",
       "      <td>0.975898</td>\n",
       "      <td>0.772961</td>\n",
       "      <td>1.151366</td>\n",
       "      <td>0.758255</td>\n",
       "    </tr>\n",
       "  </tbody>\n",
       "</table>\n",
       "</div>"
      ],
      "text/plain": [
       "               Model Train_MSE  Train R2  Test MSE   Test R2\n",
       "0  Linear Regression  0.975898  0.772961  1.151366  0.758255"
      ]
     },
     "execution_count": 7,
     "metadata": {},
     "output_type": "execute_result"
    }
   ],
   "source": [
    "from sklearn.metrics import mean_squared_error, r2_score\n",
    "lr_train_mse = mean_squared_error(y_train,y_lr_train_pred)\n",
    "lr_test_mse = mean_squared_error(y_test,y_lr_test_pred)\n",
    "\n",
    "lr_train_r2 = r2_score(y_train,y_lr_train_pred)\n",
    "lr_test_r2 = r2_score(y_test,y_lr_test_pred)\n",
    "\n",
    "\n",
    "lr_result = pd.DataFrame(['Linear Regression', lr_train_mse, lr_train_r2,lr_test_mse,lr_test_r2]).transpose()\n",
    "lr_result.columns =['Model','Train_MSE', 'Train R2','Test MSE','Test R2']\n",
    "\n",
    "lr_result"
   ]
  },
  {
   "cell_type": "markdown",
   "metadata": {
    "id": "87xLyXTRIgD7"
   },
   "source": [
    "### Random Forest"
   ]
  },
  {
   "cell_type": "markdown",
   "metadata": {
    "id": "DC-_WOI2ImoS"
   },
   "source": [
    "#### Training the model\n"
   ]
  },
  {
   "cell_type": "code",
   "execution_count": 8,
   "metadata": {
    "colab": {
     "base_uri": "https://localhost:8080/",
     "height": 75
    },
    "executionInfo": {
     "elapsed": 5,
     "status": "ok",
     "timestamp": 1726060169731,
     "user": {
      "displayName": "A",
      "userId": "16866082242235135840"
     },
     "user_tz": -360
    },
    "id": "tQorxn20IxEp",
    "outputId": "491913ed-d10f-4921-b3e1-d9389c8e083f"
   },
   "outputs": [
    {
     "data": {
      "text/html": [
       "<style>#sk-container-id-2 {color: black;background-color: white;}#sk-container-id-2 pre{padding: 0;}#sk-container-id-2 div.sk-toggleable {background-color: white;}#sk-container-id-2 label.sk-toggleable__label {cursor: pointer;display: block;width: 100%;margin-bottom: 0;padding: 0.3em;box-sizing: border-box;text-align: center;}#sk-container-id-2 label.sk-toggleable__label-arrow:before {content: \"▸\";float: left;margin-right: 0.25em;color: #696969;}#sk-container-id-2 label.sk-toggleable__label-arrow:hover:before {color: black;}#sk-container-id-2 div.sk-estimator:hover label.sk-toggleable__label-arrow:before {color: black;}#sk-container-id-2 div.sk-toggleable__content {max-height: 0;max-width: 0;overflow: hidden;text-align: left;background-color: #f0f8ff;}#sk-container-id-2 div.sk-toggleable__content pre {margin: 0.2em;color: black;border-radius: 0.25em;background-color: #f0f8ff;}#sk-container-id-2 input.sk-toggleable__control:checked~div.sk-toggleable__content {max-height: 200px;max-width: 100%;overflow: auto;}#sk-container-id-2 input.sk-toggleable__control:checked~label.sk-toggleable__label-arrow:before {content: \"▾\";}#sk-container-id-2 div.sk-estimator input.sk-toggleable__control:checked~label.sk-toggleable__label {background-color: #d4ebff;}#sk-container-id-2 div.sk-label input.sk-toggleable__control:checked~label.sk-toggleable__label {background-color: #d4ebff;}#sk-container-id-2 input.sk-hidden--visually {border: 0;clip: rect(1px 1px 1px 1px);clip: rect(1px, 1px, 1px, 1px);height: 1px;margin: -1px;overflow: hidden;padding: 0;position: absolute;width: 1px;}#sk-container-id-2 div.sk-estimator {font-family: monospace;background-color: #f0f8ff;border: 1px dotted black;border-radius: 0.25em;box-sizing: border-box;margin-bottom: 0.5em;}#sk-container-id-2 div.sk-estimator:hover {background-color: #d4ebff;}#sk-container-id-2 div.sk-parallel-item::after {content: \"\";width: 100%;border-bottom: 1px solid gray;flex-grow: 1;}#sk-container-id-2 div.sk-label:hover label.sk-toggleable__label {background-color: #d4ebff;}#sk-container-id-2 div.sk-serial::before {content: \"\";position: absolute;border-left: 1px solid gray;box-sizing: border-box;top: 0;bottom: 0;left: 50%;z-index: 0;}#sk-container-id-2 div.sk-serial {display: flex;flex-direction: column;align-items: center;background-color: white;padding-right: 0.2em;padding-left: 0.2em;position: relative;}#sk-container-id-2 div.sk-item {position: relative;z-index: 1;}#sk-container-id-2 div.sk-parallel {display: flex;align-items: stretch;justify-content: center;background-color: white;position: relative;}#sk-container-id-2 div.sk-item::before, #sk-container-id-2 div.sk-parallel-item::before {content: \"\";position: absolute;border-left: 1px solid gray;box-sizing: border-box;top: 0;bottom: 0;left: 50%;z-index: -1;}#sk-container-id-2 div.sk-parallel-item {display: flex;flex-direction: column;z-index: 1;position: relative;background-color: white;}#sk-container-id-2 div.sk-parallel-item:first-child::after {align-self: flex-end;width: 50%;}#sk-container-id-2 div.sk-parallel-item:last-child::after {align-self: flex-start;width: 50%;}#sk-container-id-2 div.sk-parallel-item:only-child::after {width: 0;}#sk-container-id-2 div.sk-dashed-wrapped {border: 1px dashed gray;margin: 0 0.4em 0.5em 0.4em;box-sizing: border-box;padding-bottom: 0.4em;background-color: white;}#sk-container-id-2 div.sk-label label {font-family: monospace;font-weight: bold;display: inline-block;line-height: 1.2em;}#sk-container-id-2 div.sk-label-container {text-align: center;}#sk-container-id-2 div.sk-container {/* jupyter's `normalize.less` sets `[hidden] { display: none; }` but bootstrap.min.css set `[hidden] { display: none !important; }` so we also need the `!important` here to be able to override the default hidden behavior on the sphinx rendered scikit-learn.org. See: https://github.com/scikit-learn/scikit-learn/issues/21755 */display: inline-block !important;position: relative;}#sk-container-id-2 div.sk-text-repr-fallback {display: none;}</style><div id=\"sk-container-id-2\" class=\"sk-top-container\"><div class=\"sk-text-repr-fallback\"><pre>RandomForestRegressor(max_depth=2, random_state=69)</pre><b>In a Jupyter environment, please rerun this cell to show the HTML representation or trust the notebook. <br />On GitHub, the HTML representation is unable to render, please try loading this page with nbviewer.org.</b></div><div class=\"sk-container\" hidden><div class=\"sk-item\"><div class=\"sk-estimator sk-toggleable\"><input class=\"sk-toggleable__control sk-hidden--visually\" id=\"sk-estimator-id-2\" type=\"checkbox\" checked><label for=\"sk-estimator-id-2\" class=\"sk-toggleable__label sk-toggleable__label-arrow\">RandomForestRegressor</label><div class=\"sk-toggleable__content\"><pre>RandomForestRegressor(max_depth=2, random_state=69)</pre></div></div></div></div></div>"
      ],
      "text/plain": [
       "RandomForestRegressor(max_depth=2, random_state=69)"
      ]
     },
     "execution_count": 8,
     "metadata": {},
     "output_type": "execute_result"
    }
   ],
   "source": [
    "from sklearn.ensemble import RandomForestRegressor\n",
    "rf = RandomForestRegressor(max_depth=2,random_state=69)\n",
    "rf.fit(x_train,y_train)"
   ]
  },
  {
   "cell_type": "markdown",
   "metadata": {
    "id": "_qQcsb2-JKuK"
   },
   "source": [
    "#### applying the model to make prediction"
   ]
  },
  {
   "cell_type": "code",
   "execution_count": 9,
   "metadata": {
    "colab": {
     "base_uri": "https://localhost:8080/"
    },
    "executionInfo": {
     "elapsed": 562,
     "status": "ok",
     "timestamp": 1726060172276,
     "user": {
      "displayName": "A",
      "userId": "16866082242235135840"
     },
     "user_tz": -360
    },
    "id": "sPPJhG-wJPAg",
    "outputId": "7008e1cb-a379-41fa-b0b9-69e0ac29dce7"
   },
   "outputs": [
    {
     "data": {
      "text/plain": [
       "array([-7.00940865, -1.25805149, -1.16974414, -3.91503612, -2.61144388,\n",
       "       -1.25805149, -1.30895948, -4.3430812 , -4.3127524 , -2.70081048,\n",
       "       -2.5154968 , -4.3430812 , -2.7138641 , -1.16974414, -1.22065213,\n",
       "       -1.16974414, -7.00940865, -3.51397804, -2.62796245, -4.3430812 ,\n",
       "       -2.59264178, -7.00940865, -1.18346491, -2.63416122, -2.61144388,\n",
       "       -2.70081048, -2.7138641 , -1.22065213, -4.3430812 , -1.16974414,\n",
       "       -2.7138641 , -4.46248244, -4.38961703, -1.30895948, -1.25805149,\n",
       "       -5.06173698, -2.7138641 , -2.7138641 , -1.22065213, -1.22065213,\n",
       "       -3.91503612, -4.3430812 , -2.66040971, -1.22065213, -1.16974414,\n",
       "       -2.7138641 , -2.61144388, -1.22065213, -5.06173698, -2.57419763,\n",
       "       -4.3430812 , -4.3430812 , -2.62796245, -2.61144388, -5.06173698,\n",
       "       -5.06173698, -1.16974414, -2.56640479, -1.16974414, -7.00940865,\n",
       "       -2.66040971, -7.00940865, -2.3790906 , -1.22065213, -1.16974414,\n",
       "       -2.62316346, -2.57419763, -1.22065213, -2.05592623, -2.64354977,\n",
       "       -1.30895948, -1.16974414, -1.27898187, -4.25879033, -5.06173698,\n",
       "       -1.30895948, -2.7138641 , -2.7138641 , -7.00940865, -2.81497699,\n",
       "       -2.7138641 , -1.16974414, -4.3127524 , -6.81162331, -4.3430812 ,\n",
       "       -2.58519539, -5.7704696 , -1.22065213, -2.7138641 , -1.22065213,\n",
       "       -2.5401563 , -7.00940865, -1.22065213, -1.22065213, -2.5154968 ,\n",
       "       -3.4954857 , -1.19440364, -7.00940865, -2.70081048, -1.16974414,\n",
       "       -2.66040971, -1.25805149, -2.56640479, -5.06173698, -1.22065213,\n",
       "       -2.5154968 , -4.3127524 , -1.27898187, -2.56640479, -2.52915855,\n",
       "       -1.16974414, -2.60950171, -2.62796245, -6.81162331, -2.59564574,\n",
       "       -5.06173698, -4.3430812 , -1.22065213, -1.16974414, -2.57419763,\n",
       "       -2.62796245, -1.16974414, -5.06173698, -1.22065213, -4.3430812 ,\n",
       "       -2.64354977, -3.4954857 , -2.7138641 , -2.66040971, -1.22065213,\n",
       "       -7.00940865, -7.00940865, -2.70081048, -4.3430812 , -4.3430812 ,\n",
       "       -4.3430812 , -2.66040971, -5.06173698, -4.60296214, -7.00940865,\n",
       "       -2.70081048, -4.25879033, -7.00940865, -2.57705445, -7.00940865,\n",
       "       -4.29386972, -1.16974414, -2.81497699, -4.3430812 , -1.30895948,\n",
       "       -3.91503612, -1.22065213, -5.06173698, -2.70081048, -3.91503612,\n",
       "       -7.00940865, -2.62796245, -2.74724406, -5.06173698, -1.16974414,\n",
       "       -2.3790906 , -7.00940865, -1.22065213, -1.16974414, -1.22065213,\n",
       "       -1.16974414, -2.81497699, -1.30895948, -2.59264178, -2.5154968 ,\n",
       "       -1.16974414, -5.06173698, -5.06173698, -3.91503612, -1.22065213,\n",
       "       -4.3430812 , -4.46248244, -2.5154968 , -2.5154968 , -1.25805149,\n",
       "       -7.00940865, -1.28271099, -4.3430812 , -3.91503612, -7.00940865,\n",
       "       -1.22065213, -7.00940865, -1.18340589, -1.22065213, -4.3127524 ,\n",
       "       -1.16974414, -1.16974414, -2.56640479, -4.3430812 , -1.16974414,\n",
       "       -1.22065213, -4.3430812 , -1.22065213, -4.3430812 , -1.22065213,\n",
       "       -3.9331895 , -1.22065213, -1.7277107 , -3.9331895 , -2.7138641 ,\n",
       "       -1.22065213, -1.16974414, -1.6732943 , -7.00940865, -3.91503612,\n",
       "       -2.66040971, -1.19440364, -1.18340589, -4.3430812 , -1.2343729 ,\n",
       "       -2.56640479, -2.59264178, -1.22065213, -4.3430812 , -2.5154968 ,\n",
       "       -1.16974414, -1.22065213, -1.18340589, -2.64176008, -4.3430812 ,\n",
       "       -5.06173698, -1.22065213, -2.70081048, -4.3430812 ])"
      ]
     },
     "execution_count": 9,
     "metadata": {},
     "output_type": "execute_result"
    }
   ],
   "source": [
    "y_rf_train_pred = rf.predict(x_train)\n",
    "y_rf_test_pred = rf.predict(x_test)\n",
    "y_rf_test_pred"
   ]
  },
  {
   "cell_type": "markdown",
   "metadata": {
    "id": "b8JePIR8KCuY"
   },
   "source": [
    "#### evaluting the model"
   ]
  },
  {
   "cell_type": "code",
   "execution_count": 10,
   "metadata": {
    "colab": {
     "base_uri": "https://localhost:8080/",
     "height": 89
    },
    "executionInfo": {
     "elapsed": 624,
     "status": "ok",
     "timestamp": 1726060175846,
     "user": {
      "displayName": "A",
      "userId": "16866082242235135840"
     },
     "user_tz": -360
    },
    "id": "OHctIUkcKESU",
    "outputId": "4c697341-57ff-457d-a905-da9da08a68ef"
   },
   "outputs": [
    {
     "data": {
      "text/html": [
       "<div>\n",
       "<style scoped>\n",
       "    .dataframe tbody tr th:only-of-type {\n",
       "        vertical-align: middle;\n",
       "    }\n",
       "\n",
       "    .dataframe tbody tr th {\n",
       "        vertical-align: top;\n",
       "    }\n",
       "\n",
       "    .dataframe thead th {\n",
       "        text-align: right;\n",
       "    }\n",
       "</style>\n",
       "<table border=\"1\" class=\"dataframe\">\n",
       "  <thead>\n",
       "    <tr style=\"text-align: right;\">\n",
       "      <th></th>\n",
       "      <th>Model</th>\n",
       "      <th>Train_MSE</th>\n",
       "      <th>Train R2</th>\n",
       "      <th>Test MSE</th>\n",
       "      <th>Test R2</th>\n",
       "    </tr>\n",
       "  </thead>\n",
       "  <tbody>\n",
       "    <tr>\n",
       "      <th>0</th>\n",
       "      <td>Random Forest</td>\n",
       "      <td>1.054679</td>\n",
       "      <td>0.754633</td>\n",
       "      <td>1.350599</td>\n",
       "      <td>0.716424</td>\n",
       "    </tr>\n",
       "  </tbody>\n",
       "</table>\n",
       "</div>"
      ],
      "text/plain": [
       "           Model Train_MSE  Train R2  Test MSE   Test R2\n",
       "0  Random Forest  1.054679  0.754633  1.350599  0.716424"
      ]
     },
     "execution_count": 10,
     "metadata": {},
     "output_type": "execute_result"
    }
   ],
   "source": [
    "rf_train_mse = mean_squared_error(y_train,y_rf_train_pred)\n",
    "rf_test_mse = mean_squared_error(y_test,y_rf_test_pred)\n",
    "\n",
    "rf_train_r2 = r2_score(y_train,y_rf_train_pred)\n",
    "rf_test_r2 = r2_score(y_test,y_rf_test_pred)\n",
    "\n",
    "\n",
    "rf_result = pd.DataFrame(['Random Forest', rf_train_mse, rf_train_r2,rf_test_mse,rf_test_r2]).transpose()\n",
    "rf_result.columns =['Model','Train_MSE', 'Train R2','Test MSE','Test R2']\n",
    "\n",
    "rf_result"
   ]
  },
  {
   "cell_type": "markdown",
   "metadata": {
    "id": "jSW5qELWKfB4"
   },
   "source": [
    "## Model Comparison"
   ]
  },
  {
   "cell_type": "code",
   "execution_count": 11,
   "metadata": {
    "colab": {
     "base_uri": "https://localhost:8080/",
     "height": 125
    },
    "executionInfo": {
     "elapsed": 595,
     "status": "ok",
     "timestamp": 1726060179496,
     "user": {
      "displayName": "A",
      "userId": "16866082242235135840"
     },
     "user_tz": -360
    },
    "id": "8Su755k2Kjmt",
    "outputId": "f2e55ff2-bb25-4ca9-c5c0-6db73c7da827"
   },
   "outputs": [
    {
     "data": {
      "text/html": [
       "<div>\n",
       "<style scoped>\n",
       "    .dataframe tbody tr th:only-of-type {\n",
       "        vertical-align: middle;\n",
       "    }\n",
       "\n",
       "    .dataframe tbody tr th {\n",
       "        vertical-align: top;\n",
       "    }\n",
       "\n",
       "    .dataframe thead th {\n",
       "        text-align: right;\n",
       "    }\n",
       "</style>\n",
       "<table border=\"1\" class=\"dataframe\">\n",
       "  <thead>\n",
       "    <tr style=\"text-align: right;\">\n",
       "      <th></th>\n",
       "      <th>Model</th>\n",
       "      <th>Train_MSE</th>\n",
       "      <th>Train R2</th>\n",
       "      <th>Test MSE</th>\n",
       "      <th>Test R2</th>\n",
       "    </tr>\n",
       "  </thead>\n",
       "  <tbody>\n",
       "    <tr>\n",
       "      <th>0</th>\n",
       "      <td>Linear Regression</td>\n",
       "      <td>0.975898</td>\n",
       "      <td>0.772961</td>\n",
       "      <td>1.151366</td>\n",
       "      <td>0.758255</td>\n",
       "    </tr>\n",
       "    <tr>\n",
       "      <th>1</th>\n",
       "      <td>Random Forest</td>\n",
       "      <td>1.054679</td>\n",
       "      <td>0.754633</td>\n",
       "      <td>1.350599</td>\n",
       "      <td>0.716424</td>\n",
       "    </tr>\n",
       "  </tbody>\n",
       "</table>\n",
       "</div>"
      ],
      "text/plain": [
       "               Model Train_MSE  Train R2  Test MSE   Test R2\n",
       "0  Linear Regression  0.975898  0.772961  1.151366  0.758255\n",
       "1      Random Forest  1.054679  0.754633  1.350599  0.716424"
      ]
     },
     "execution_count": 11,
     "metadata": {},
     "output_type": "execute_result"
    }
   ],
   "source": [
    "df_models = pd.concat([lr_result,rf_result],axis=0).reset_index(drop=True)\n",
    "df_models"
   ]
  },
  {
   "cell_type": "markdown",
   "metadata": {
    "id": "CMHtZoywLNiA"
   },
   "source": [
    "## Data visualization"
   ]
  },
  {
   "cell_type": "code",
   "execution_count": 12,
   "metadata": {
    "colab": {
     "base_uri": "https://localhost:8080/",
     "height": 482
    },
    "executionInfo": {
     "elapsed": 1314,
     "status": "ok",
     "timestamp": 1726062139646,
     "user": {
      "displayName": "A",
      "userId": "16866082242235135840"
     },
     "user_tz": -360
    },
    "id": "Jj_bh7T3LPf5",
    "outputId": "dfef4edb-c226-4ef6-978c-6b317bad2435"
   },
   "outputs": [
    {
     "data": {
      "text/plain": [
       "Text(0.5, 0, 'Exprerimental logS')"
      ]
     },
     "execution_count": 12,
     "metadata": {},
     "output_type": "execute_result"
    },
    {
     "data": {
      "image/png": "[encoded data removed]",
      "text/plain": [
       "<Figure size 500x500 with 1 Axes>"
      ]
     },
     "metadata": {},
     "output_type": "display_data"
    }
   ],
   "source": [
    "import matplotlib.pyplot as plt\n",
    "import numpy as np\n",
    "plt.figure(figsize=(5,5))\n",
    "plt.scatter(x=y_train,y=y_lr_train_pred,c='#B79FF1',alpha=0.3)\n",
    "r=np.polyfit(y_train,y_lr_train_pred,1)\n",
    "p=np.poly1d(r)\n",
    "plt.plot(y_train,p(y_train),\"#000000\")\n",
    "plt.ylabel('predict logS')\n",
    "plt.xlabel('Exprerimental logS')\n"
   ]
  }
 ],
 "metadata": {
  "colab": {
   "authorship_tag": "ABX9TyMdjAiGZzwJ/IrexTk7j1L4",
   "provenance": [],
   "toc_visible": true
  },
  "kernelspec": {
   "display_name": "Python 3 (ipykernel)",
   "language": "python",
   "name": "python3"
  },
  "language_info": {
   "codemirror_mode": {
    "name": "ipython",
    "version": 3
   },
   "file_extension": ".py",
   "mimetype": "text/x-python",
   "name": "python",
   "nbconvert_exporter": "python",
   "pygments_lexer": "ipython3",
   "version": "3.10.9"
  }
 },
 "nbformat": 4,
 "nbformat_minor": 1
}
